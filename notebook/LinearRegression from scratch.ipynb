{
 "cells": [
  {
   "cell_type": "markdown",
   "id": "07c127cf-d7ce-46ff-a2d6-a8392c9f8814",
   "metadata": {},
   "source": [
    "# LinearRegression from scratch"
   ]
  },
  {
   "cell_type": "markdown",
   "id": "63291e60-dc51-4b20-8ef1-0a5c5d199513",
   "metadata": {},
   "source": [
    "**let us take,**\n",
    "\n",
    "- Input Matrix $X$ of size (1000, 5)\n",
    "- True Weight Array $W_t$ of size (5,)\n",
    "- True Bias $b_t$\n",
    "- Output Array $Y$ of size (1000,)\n",
    "- Weight Array $W$ of size (5,)\n",
    "- Bias $b$"
   ]
  },
  {
   "cell_type": "code",
   "execution_count": 1,
   "id": "e16ea97c-962a-40a4-87ef-ecab7ec8aa06",
   "metadata": {},
   "outputs": [],
   "source": [
    "from random import uniform\n",
    "\n",
    "x = [[uniform(-1, 1) for _ in range(5)] for _ in range(1000)]\n",
    "wt = [uniform(-1, 1) for _ in range(5)]\n",
    "bt = uniform(-1, 1)\n",
    "y = [sum([j*k+bt for j,k in zip(i, wt)]) for i in x]\n",
    "\n",
    "w = [uniform(-1, 1) for _ in range(5)]\n",
    "b = uniform(-1, 1)"
   ]
  },
  {
   "cell_type": "markdown",
   "id": "7b317874-4de6-4468-b164-84f41fd3cb32",
   "metadata": {},
   "source": [
    "**forward function:**\n",
    "\n",
    "$\\displaystyle forward(x, w, b) = \\sum_{n=1}^{i} (x_n w_n) + b$"
   ]
  },
  {
   "cell_type": "code",
   "execution_count": 2,
   "id": "2f6d2d34-3fcf-4879-afaf-1287d531ca58",
   "metadata": {},
   "outputs": [],
   "source": [
    "def forward(x, w, b):\n",
    "    s = 0\n",
    "    for i in range(len(x)):\n",
    "        s += x[i] * w[i]\n",
    "    return s + b"
   ]
  },
  {
   "cell_type": "markdown",
   "id": "9f92451f-e7aa-480e-a30e-547e4444b555",
   "metadata": {},
   "source": [
    "`mod_w` is modify weight function"
   ]
  },
  {
   "cell_type": "code",
   "execution_count": 3,
   "id": "5831afe4-8cae-454a-a7bd-0d847fe0e190",
   "metadata": {},
   "outputs": [],
   "source": [
    "def mod_w(w, h, index):\n",
    "    w[index] = w[index] + h\n",
    "    return w"
   ]
  },
  {
   "cell_type": "markdown",
   "id": "437a77de-5f01-45ad-ba5d-7861de68be4f",
   "metadata": {},
   "source": [
    "**loss function:**\n",
    "\n",
    "$\\displaystyle loss(x, y, w, b, h, index) = (y - forward(x, mod_w(w, h, index), b))^2$\n",
    "\n",
    "$\\displaystyle loss_b(x, y, w, b, h) = (y - forward(x, w, b+h))^2$"
   ]
  },
  {
   "cell_type": "code",
   "execution_count": 4,
   "id": "94cd8994-d8ee-4288-9ff0-73e90490dead",
   "metadata": {},
   "outputs": [],
   "source": [
    "def loss(x, y, w, b, h, index):\n",
    "    return (y - forward(x, mod_w(w, h, index), b)) ** 2\n",
    "\n",
    "def loss_b(x, y, w, b, h):\n",
    "    return (y - forward(x, w, b+h)) ** 2"
   ]
  },
  {
   "cell_type": "markdown",
   "id": "14c3c203-aadb-4f22-8693-db261c4916c9",
   "metadata": {},
   "source": [
    "**grad function:**\n",
    "\n",
    "$\\displaystyle grad(x, y, w, b, h, index) = \\frac{loss(x, y, w, b, h, index) - loss(x, y, w, b, -h, index)}{2 * h}$\n",
    "\n",
    "$\\displaystyle grad_b(x, y, w, b, h) = \\frac{loss_b(x, y, w, b, h) - loss_b(x, y, w, b, -h)}{2 * h}$"
   ]
  },
  {
   "cell_type": "code",
   "execution_count": 5,
   "id": "d7e2e04c-9ae9-476b-8864-0ff6cfe61cbb",
   "metadata": {},
   "outputs": [],
   "source": [
    "def grad(x, y, w, b, h, index):\n",
    "    return (loss(x, y, w, b, h, index) - loss(x, y, w, b, -h, index)) / (2 * h)\n",
    "\n",
    "def grad_b(x, y, w, b, h):\n",
    "    return (loss_b(x, y, w, b, h) - loss_b(x, y, w, b, -h)) / (2 * h)"
   ]
  },
  {
   "cell_type": "markdown",
   "id": "859d41f0-f1e2-48e1-a3aa-028904d996c8",
   "metadata": {},
   "source": [
    "**overall_loss:**\n",
    "\n",
    "$\\displaystyle overall\\_loss(x, y, w, b) = \\frac{1}{N}\\sum_{}^{i}\\left(y_i - \\displaystyle \\sum_{}^{j} \\left(x_{ij}*w_{j}\\right)-b\\right)^2$"
   ]
  },
  {
   "cell_type": "code",
   "execution_count": 6,
   "id": "d9389a0a-9dd0-4e7a-a419-f9222fe8bfba",
   "metadata": {},
   "outputs": [],
   "source": [
    "def overall_loss(x, y, w, b):\n",
    "    loss = 0\n",
    "    for index, x_row in enumerate(x):\n",
    "        s = 0\n",
    "        for i in range(len(w)):\n",
    "            s += w[i] * x_row[i]\n",
    "        s += b\n",
    "        loss += (y[index] - s) ** 2\n",
    "    loss /= len(x)\n",
    "    return loss"
   ]
  },
  {
   "cell_type": "markdown",
   "id": "39f0f6c2-b35a-45e5-a3b0-6bf84a764b14",
   "metadata": {},
   "source": [
    "$W \\leftarrow W - lr \\cdot \\triangle W$\n",
    "\n",
    "$b \\leftarrow b - lr \\cdot \\triangle b$"
   ]
  },
  {
   "cell_type": "code",
   "execution_count": 7,
   "id": "375cdbb7-b4ab-4ea1-8417-5c18cb7c323e",
   "metadata": {},
   "outputs": [
    {
     "name": "stdout",
     "output_type": "stream",
     "text": [
      "Initial Loss: 0.8563467004061935\n",
      "Final Loss: 0.00045021505358297287\n",
      "[0.7572138982576813, 0.3777155637953271, -0.8685347316357224, -0.15010974717466563, -0.1774377866127173] -0.35374644562915714\n"
     ]
    }
   ],
   "source": [
    "h = 0.001\n",
    "lr = 0.001\n",
    "epochs = 10\n",
    "print(f'Initial Loss: {overall_loss(x, y, w, b)}')\n",
    "for _ in range(epochs):\n",
    "    for i in range(len(x)):\n",
    "        dw = []\n",
    "        for w_i in range(len(w)):\n",
    "            dw.append(grad(x[i], y[i], w, b, h, w_i))\n",
    "        b -= lr * grad_b(x[i], y[i], w, b, h)\n",
    "        for w_i in range(len(w)):\n",
    "            w[w_i] -= lr * dw[w_i]\n",
    "print(f'Final Loss: {overall_loss(x, y, w, b)}')\n",
    "\n",
    "print(w, b)"
   ]
  },
  {
   "cell_type": "markdown",
   "id": "54b6f6ac-0410-4bab-8c9b-072a5f9be747",
   "metadata": {},
   "source": [
    "# Rust code"
   ]
  },
  {
   "cell_type": "markdown",
   "id": "5532150b-4cbf-4bfb-a8a2-60e93d3d503f",
   "metadata": {},
   "source": [
    "```rust\n",
    "use rand::Rng;\n",
    "\n",
    "fn main() {\n",
    "    let mut rng = rand::thread_rng();\n",
    "    \n",
    "    let mut x = [[0.0;5];1000];\n",
    "    for i in 0..1000 {\n",
    "        for j in 0..5 {\n",
    "            x[i][j] = rng.gen_range(-1.0..1.0);\n",
    "        }\n",
    "    }\n",
    "\n",
    "    let mut wt = [0.0;5];\n",
    "    for i in 0..5 {\n",
    "        wt[i] = rng.gen_range(-1.0..1.0);\n",
    "    }\n",
    "\n",
    "    let bt = rng.gen_range(-1.0..1.0);\n",
    "\n",
    "    let mut y = [0.0;1000];\n",
    "    for i in 0..1000 {\n",
    "        let mut s = 0.0;\n",
    "        for j in 0..5 {\n",
    "            s += x[i][j] * wt[j];\n",
    "        }\n",
    "        s += bt;\n",
    "        y[i] = s;\n",
    "    }\n",
    "    \n",
    "    let mut w = [0.0;5];\n",
    "    for i in 0..5 {\n",
    "        w[i] = rng.gen_range(-1.0..1.0);\n",
    "    }\n",
    "\n",
    "    let mut b = rng.gen_range(-1.0..1.0);\n",
    "    \n",
    "    fn forward(x:[f64;5], w:[f64;5], b:f64) -> f64 {\n",
    "        let mut s = 0.0;\n",
    "        for i in 0..x.len() {\n",
    "            s += x[i] * w[i];\n",
    "        }\n",
    "        return s + b\n",
    "    }\n",
    "    \n",
    "    fn mod_w(mut w:[f64;5], h:f64, index:usize) -> [f64;5] {\n",
    "        w[index] = w[index] + h;\n",
    "        return w\n",
    "    }\n",
    "    \n",
    "    fn loss(x:[f64;5], y:f64, w:[f64;5], b:f64, h:f64, index:usize) -> f64 {\n",
    "        return (y - forward(x, mod_w(w, h, index), b)).powi(2)\n",
    "    }\n",
    "\n",
    "    fn loss_b(x:[f64;5], y:f64, w:[f64;5], b:f64, h:f64) -> f64 {\n",
    "        return (y - forward(x, w, b+h)).powi(2);\n",
    "    }\n",
    "\n",
    "    fn grad(x:[f64;5], y:f64, w:[f64;5], b:f64, h:f64, index:usize) -> f64 {\n",
    "        return (loss(x, y, w, b, h, index) - loss(x, y, w, b, -h, index)) / (2.0 * h)\n",
    "    }\n",
    "\n",
    "    fn grad_b(x:[f64;5], y:f64, w:[f64;5], b:f64, h:f64) -> f64 {\n",
    "        return (loss_b(x, y, w, b, h) - loss_b(x, y, w, b, -h)) / (2.0 * h)\n",
    "    }\n",
    "\n",
    "    fn overall_loss(x:[[f64;5];1000], y:[f64;1000], w:[f64;5], b:f64) -> f64 {\n",
    "        let mut loss = 0.0;\n",
    "        for (index, x_row) in x.iter().enumerate() {\n",
    "            let mut s = 0.0;\n",
    "            for i in 0..w.len() {\n",
    "                s += w[i] * x_row[i];\n",
    "            }\n",
    "            s += b;\n",
    "            loss += (y[index] - s).powi(2);\n",
    "        }\n",
    "        loss /= x.len() as f64;\n",
    "        return loss\n",
    "    }\n",
    "\n",
    "    let h = 0.001;\n",
    "    let lr = 0.001;\n",
    "    let epochs = 10;\n",
    "    println!(\"Initial Loss: {}\", overall_loss(x, y, w, b));\n",
    "    for _ in 0..epochs {\n",
    "        for i in 0..x.len() {\n",
    "            let mut dw = vec![];\n",
    "            for w_i in 0..w.len() {\n",
    "                dw.push(grad(x[i], y[i], w, b, h, w_i));\n",
    "            }\n",
    "            b -= lr * grad_b(x[i], y[i], w, b, h);\n",
    "            for w_i in 0..w.len() {\n",
    "                w[w_i] -= lr * dw[w_i];\n",
    "            }\n",
    "        }\n",
    "    }\n",
    "    println!(\"Final Loss: {}\", overall_loss(x, y, w, b));\n",
    "    \n",
    "    println!(\"{:?}, {}\", w, b);\n",
    "}\n",
    "```\n",
    "\n",
    "**output:**\n",
    "\n",
    "```\n",
    "Initial Loss: 2.068049256824565\n",
    "Final Loss: 0.000003865092504845875\n",
    "[-0.2929867467493502, -0.8034504562551548, -0.06222288698532642, -0.4897335869051992, -0.2765821180231157], 0.5393629972524859\n",
    "```"
   ]
  },
  {
   "cell_type": "markdown",
   "id": "30998265-bb3e-4ad6-89d0-2297955a052d",
   "metadata": {},
   "source": [
    "# test.py"
   ]
  },
  {
   "cell_type": "code",
   "execution_count": 8,
   "id": "9f04e421-c4de-4a40-853a-c7c8b6811b8c",
   "metadata": {},
   "outputs": [
    {
     "name": "stdout",
     "output_type": "stream",
     "text": [
      "Python...\n",
      "Initial Loss: 6.5533515924195775\n",
      "Final Loss: 0.00013338218358322388\n",
      "[-0.011026382454198862, 0.06956567281878773, -0.27789901167633374, -0.16600908165267766, 0.04886392486687178] -2.8845026007399257\n",
      "\n",
      "Rust...\n",
      "Initial Loss: 1.388254800292784\n",
      "Final Loss: 0.000003082640060496903\n",
      "[0.2971948968042957, -0.7231705842722433, -0.4373733804989181, 0.46360040410574654, -0.7510819303205699], -0.03502819958995704\n",
      "\n",
      "Rust wins\n",
      "Rust is 63.2 times faster than Python\n"
     ]
    }
   ],
   "source": [
    "from time import time\n",
    "import os\n",
    "\n",
    "print('Python...')\n",
    "start = time()\n",
    "os.system('python3 main.py')\n",
    "python = time() - start\n",
    "print()\n",
    "\n",
    "print('Rust...')\n",
    "start = time()\n",
    "os.system('./target/release/rust')\n",
    "rust = time() - start\n",
    "print()\n",
    "\n",
    "if rust < python:\n",
    "    print('Rust wins')\n",
    "    print(f'Rust is {python/rust:.3} times faster than Python')\n",
    "else:\n",
    "    print('Python wins')\n",
    "    print(f'Python is {rust/python:.3} times faster than Rust')"
   ]
  },
  {
   "cell_type": "markdown",
   "id": "e6655bfc-7f94-4d02-a083-e7aed9fc5cbf",
   "metadata": {},
   "source": [
    "**Use Standard libraries like Numpy, Pandas, Scikit-learn, to increase python's performance**"
   ]
  }
 ],
 "metadata": {
  "kernelspec": {
   "display_name": "Python 3 (ipykernel)",
   "language": "python",
   "name": "python3"
  },
  "language_info": {
   "codemirror_mode": {
    "name": "ipython",
    "version": 3
   },
   "file_extension": ".py",
   "mimetype": "text/x-python",
   "name": "python",
   "nbconvert_exporter": "python",
   "pygments_lexer": "ipython3",
   "version": "3.10.12"
  }
 },
 "nbformat": 4,
 "nbformat_minor": 5
}
