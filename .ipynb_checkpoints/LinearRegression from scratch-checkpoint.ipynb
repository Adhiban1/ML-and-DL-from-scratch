{
 "cells": [
  {
   "cell_type": "markdown",
   "id": "07c127cf-d7ce-46ff-a2d6-a8392c9f8814",
   "metadata": {},
   "source": [
    "# LinearRegression from scratch"
   ]
  },
  {
   "cell_type": "markdown",
   "id": "63291e60-dc51-4b20-8ef1-0a5c5d199513",
   "metadata": {},
   "source": [
    "**let us take,**\n",
    "\n",
    "- Input Matrix $X$ of size (1000, 5)\n",
    "- True Weight Array $W_t$ of size (5,)\n",
    "- True Bias $b_t$\n",
    "- Output Array $Y$ of size (1000,)\n",
    "- Weight Array $W$ of size (5,)\n",
    "- Bias $b$"
   ]
  },
  {
   "cell_type": "code",
   "execution_count": null,
   "id": "e16ea97c-962a-40a4-87ef-ecab7ec8aa06",
   "metadata": {},
   "outputs": [],
   "source": [
    "from random import uniform\n",
    "\n",
    "x = [[uniform(-1, 1) for _ in range(5)] for _ in range(1000)]\n",
    "wt = [uniform(-1, 1) for _ in range(5)]\n",
    "bt = uniform(-1, 1)\n",
    "y = [sum([j*k+bt for j,k in zip(i, wt)]) for i in x]\n",
    "\n",
    "w = [uniform(-1, 1) for _ in range(5)]\n",
    "b = uniform(-1, 1)"
   ]
  },
  {
   "cell_type": "markdown",
   "id": "7b317874-4de6-4468-b164-84f41fd3cb32",
   "metadata": {},
   "source": [
    "**forward function:**\n",
    "\n",
    "$\\displaystyle forward(x, w, b) = \\sum_{n=1}^{i} (x_n w_n) + b$"
   ]
  },
  {
   "cell_type": "code",
   "execution_count": null,
   "id": "2f6d2d34-3fcf-4879-afaf-1287d531ca58",
   "metadata": {},
   "outputs": [],
   "source": [
    "def forward(x, w, b):\n",
    "    s = 0\n",
    "    for i in range(len(x)):\n",
    "        s += x[i] * w[i]\n",
    "    return s + b"
   ]
  },
  {
   "cell_type": "markdown",
   "id": "9f92451f-e7aa-480e-a30e-547e4444b555",
   "metadata": {},
   "source": [
    "`mod_w` is modify weight function"
   ]
  },
  {
   "cell_type": "code",
   "execution_count": null,
   "id": "5831afe4-8cae-454a-a7bd-0d847fe0e190",
   "metadata": {},
   "outputs": [],
   "source": [
    "def mod_w(w, h, index):\n",
    "    w[index] = w[index] + h\n",
    "    return w"
   ]
  },
  {
   "cell_type": "markdown",
   "id": "437a77de-5f01-45ad-ba5d-7861de68be4f",
   "metadata": {},
   "source": [
    "**loss function:**\n",
    "\n",
    "$\\displaystyle loss(x, y, w, b, h, index) = (y - forward(x, mod_w(w, h, index), b))^2$\n",
    "\n",
    "$\\displaystyle loss_b(x, y, w, b, h) = (y - forward(x, w, b+h))^2$"
   ]
  },
  {
   "cell_type": "code",
   "execution_count": null,
   "id": "94cd8994-d8ee-4288-9ff0-73e90490dead",
   "metadata": {},
   "outputs": [],
   "source": [
    "def loss(x, y, w, b, h, index):\n",
    "    return (y - forward(x, mod_w(w, h, index), b)) ** 2\n",
    "\n",
    "def loss_b(x, y, w, b, h):\n",
    "    return (y - forward(x, w, b+h)) ** 2"
   ]
  },
  {
   "cell_type": "markdown",
   "id": "14c3c203-aadb-4f22-8693-db261c4916c9",
   "metadata": {},
   "source": [
    "**grad function:**\n",
    "\n",
    "$\\displaystyle grad(x, y, w, b, h, index) = \\frac{loss(x, y, w, b, h, index) - loss(x, y, w, b, -h, index)}{2 * h}$\n",
    "\n",
    "$\\displaystyle grad_b(x, y, w, b, h) = \\frac{loss_b(x, y, w, b, h) - loss_b(x, y, w, b, -h)}{2 * h}$"
   ]
  },
  {
   "cell_type": "code",
   "execution_count": null,
   "id": "d7e2e04c-9ae9-476b-8864-0ff6cfe61cbb",
   "metadata": {},
   "outputs": [],
   "source": [
    "def grad(x, y, w, b, h, index):\n",
    "    return (loss(x, y, w, b, h, index) - loss(x, y, w, b, -h, index)) / (2 * h)\n",
    "\n",
    "def grad_b(x, y, w, b, h):\n",
    "    return (loss_b(x, y, w, b, h) - loss_b(x, y, w, b, -h)) / (2 * h)"
   ]
  },
  {
   "cell_type": "markdown",
   "id": "859d41f0-f1e2-48e1-a3aa-028904d996c8",
   "metadata": {},
   "source": [
    "**overall_loss:**\n",
    "\n",
    "$ overall\\_loss(x, y, w, b) = \\frac{1}{N}\\sum_{}^{i}\\left(y_i - \\displaystyle \\sum{}^{j} \\left(x_{ij}*w_{j}\\right)-b\\right)^2$"
   ]
  },
  {
   "cell_type": "code",
   "execution_count": null,
   "id": "d9389a0a-9dd0-4e7a-a419-f9222fe8bfba",
   "metadata": {},
   "outputs": [],
   "source": [
    "def overall_loss(x, y, w, b):\n",
    "    loss = 0\n",
    "    for index, x_row in enumerate(x):\n",
    "        s = 0\n",
    "        for i in range(len(w)):\n",
    "            s += w[i] * x_row[i]\n",
    "        s += b\n",
    "        loss += (y[index] - s) ** 2\n",
    "    loss /= len(x)\n",
    "    return loss"
   ]
  },
  {
   "cell_type": "code",
   "execution_count": null,
   "id": "375cdbb7-b4ab-4ea1-8417-5c18cb7c323e",
   "metadata": {},
   "outputs": [],
   "source": [
    "h = 0.001\n",
    "lr = 0.001\n",
    "epochs = 10\n",
    "print(f'Initial Loss: {overall_loss(x, y, w, b)}')\n",
    "for _ in range(epochs):\n",
    "    for i in range(len(x)):\n",
    "        dw = []\n",
    "        for w_i in range(len(w)):\n",
    "            dw.append(grad(x[i], y[i], w, b, h, w_i))\n",
    "        b -= lr * grad_b(x[i], y[i], w, b, h)\n",
    "        for w_i in range(len(w)):\n",
    "            w[w_i] -= lr * dw[w_i]\n",
    "print(f'Final Loss: {overall_loss(x, y, w, b)}')\n",
    "\n",
    "print(w, b)"
   ]
  }
 ],
 "metadata": {
  "kernelspec": {
   "display_name": "Python 3 (ipykernel)",
   "language": "python",
   "name": "python3"
  },
  "language_info": {
   "codemirror_mode": {
    "name": "ipython",
    "version": 3
   },
   "file_extension": ".py",
   "mimetype": "text/x-python",
   "name": "python",
   "nbconvert_exporter": "python",
   "pygments_lexer": "ipython3",
   "version": "3.10.12"
  }
 },
 "nbformat": 4,
 "nbformat_minor": 5
}
