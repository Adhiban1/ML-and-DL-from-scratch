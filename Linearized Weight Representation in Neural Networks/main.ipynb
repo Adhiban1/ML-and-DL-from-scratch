{
 "cells": [
  {
   "cell_type": "markdown",
   "metadata": {},
   "source": [
    "# Linearized Weight Representation in Neural Networks\n",
    "\n",
    "In this documentation, we'll explore a unique approach to representing weights in neural networks, followed by a detailed explanation of the equations involved in the backpropagation algorithm using this representation.\n",
    "\n",
    "## Introduction\n",
    "\n",
    "### Linearized Weight Representation\n",
    "\n",
    "Traditionally, the weights in neural networks are represented as matrices for each layer. However, in this approach, we linearize the weights into a flat array. The linearization simplifies mathematical formulations and aligns with the conventions of optimization algorithms used in deep learning frameworks.\n",
    "\n",
    "I attempted a different approach by using a flat weight array $w$ and a flat bias array $b$. The weights are accessed as matrices during computations, providing a balance between computational efficiency and simplicity in formulation.\n",
    "\n",
    "## Equations\n",
    "\n",
    "Let's delve into the equations that govern the backpropagation algorithm with this linearized weight representation.\n",
    "\n",
    "### Weight and Bias Lengths\n",
    "\n",
    "$$w\\_len = l_1.l_2 + l_2.l_3 + ... + l_{n-1}.l_n$$\n",
    "\n",
    "$$b\\_len = l_2 + l_3 + ... + l_n$$\n",
    "\n",
    "These equations define the lengths of the weight and bias arrays based on the layer sizes $l_1, l_2, ..., l_n$.\n",
    "\n",
    "### Forward Pass\n",
    "\n",
    "The forward pass computes the output of each layer using the linearized weights:\n",
    "\n",
    "$$z_{l_2} = f_2 \\left[ \\sum_{l_1=0}^{L_1-1} (x_{l_1}.w_{l_1 + L_1l_2}) + b_{l_2} \\right]$$\n",
    "\n",
    "This equation demonstrates how the output of the second layer is computed using the sigmoid activation function $f_2$.\n",
    "\n",
    "$$z_{l_3} = f_3 \\left[ \\sum_{l_2=0}^{L_2-1} (z_{l_2}.w_{l_2 + L_1L_2 + L_2 l_3}) + b_{L_2 + l_3} \\right]$$\n",
    "\n",
    "Similarly, the output of the third layer and subsequent layers are computed.\n",
    "\n",
    "$$z_{l_4} = f_4 \\left[ \\sum_{l_3=0}^{L_3-1} (z_{l_3}.w_{l_3 + L_1L_2 + L_2 L_3 + L_3 l_4}) + b_{L_2 + L_3 + l_4} \\right]$$\n",
    "\n",
    "$$\\vdots$$\n",
    "\n",
    "$$z_{l_n} = f_n \\left[ \\sum_{l_{n-1}=0}^{L_{n-1}-1} (z_{l_{n-1}}.w_{l_{n-1} + L_1L_2 + L_2 L_3 + ... + L_{n-2} L_{n-1} + L_{n-1} l_n}) + b_{L_2 + L_3 + ...+ L_{n-1} +l_n} \\right]$$\n",
    "\n",
    "$$l_{n-1} + L_1L_2 + L_2 L_3 + ... + L_{n-2} L_{n-1} + L_{n-1} l_n = l_{n-1} + \\sum_{r=2}^{n-1} L_{r-1} L_{r} + L_{n-1}l_n$$\n",
    "\n",
    "$$L_2 + L_3 + ...+ L_{n-1} +l_n = \\sum_{r=2}^{n-1}L_r + l_n$$\n",
    "\n",
    "$$z_{l_n} = f_n \\left[ \\sum_{l_{n-1}=0}^{L_{n-1}-1} (z_{l_{n-1}}.w_{l_{n-1} + \\sum_{r=2}^{n-1} L_{r-1} L_{r} + L_{n-1}l_n}) + b_{\\sum_{r=2}^{n-1}L_r + l_n} \\right]$$\n",
    "\n",
    "### Loss Function\n",
    "\n",
    "The loss function measures the error between predicted and actual outputs:\n",
    "\n",
    "$$loss = \\frac{1}{L_n} \\sum_{l_n=0}^{L_n-1} (y_{l_n} - z_{l_n})^2$$\n",
    "\n",
    "### Weight Update\n",
    "\n",
    "The weights and biases are updated during the training process:\n",
    "\n",
    "$$w_{l_1 + L_1l_2} \\leftarrow w_{l_1 + L_1l_2} - \\text{lr} \\cdot \\frac{d(loss)}{dw_{l_1}}$$\n",
    "\n",
    "The derivatives with respect to weights are calculated using the chain rule of calculus.\n",
    "\n",
    "### Gradient Calculation\n",
    "\n",
    "The gradients are calculated during the backward pass:\n",
    "\n",
    "$$\\frac{\\partial(loss)}{\\partial(z_{l_n})} = -2(y_{l_n} - z_{l_n})$$\n",
    "\n",
    "$$\\frac{\\partial(z_{l_n})}{\\partial(z_{l_{n-1}})} =f_n' \\left[ \\sum_{l_{n-1}=0}^{L_{n-1}-1} (z_{l_{n-1}}.w_{l_{n-1} + \\sum_{r=2}^{n-1} L_{r-1} L_{r} + L_{n-1}l_n}) + b_{\\sum_{r=2}^{n-1}L_r + l_n} \\right].w_{l_{n-1} + \\sum_{r=2}^{n-1} L_{r-1} L_{r} + L_{n-1}l_n}$$\n",
    "\n",
    "$$\\frac{\\partial z_{l_4}}{\\partial z_{l_3}} = f_4' \\left[ \\sum_{l_3=0}^{L_3-1} (z_{l_3}.w_{l_3 + L_1L_2 + L_2 L_3 + L_3 l_4}) + b_{L_2 + L_3 + l_4} \\right].w_{l_3 + L_1L_2 + L_2 L_3 + L_3 l_4}$$\n",
    "\n",
    "$$\\frac{\\partial z_{l_3}}{\\partial z_{l_2}} = f_3' \\left[ \\sum_{l_2=0}^{L_2-1} (z_{l_2}.w_{l_2 + L_1L_2 + L_2 l_3}) + b_{L_2 + l_3} \\right].w_{l_2 + L_1L_2 + L_2 l_3}$$\n",
    "\n",
    "$$\\frac{\\partial z_{l_2}}{\\partial w_{l_1}} = f_2' \\left[ \\sum_{l_1=0}^{L_1-1} (x_{l_1}.w_{l_1 + L_1l_2}) + b_{l_2} \\right].x_{l_1}$$\n",
    "\n",
    "$$\\frac{d(loss)}{dw_{l_1}} = \\frac{\\partial(loss)}{\\partial(z_{l_n})} . \\frac{\\partial(z_{l_n})}{\\partial(z_{l_{n-1}})} \\dots \\frac{\\partial z_{l_4}}{\\partial z_{l_3}} . \\frac{\\partial z_{l_3}}{\\partial z_{l_2}} . \\frac{\\partial z_{l_2}}{\\partial w_{l_1}}$$\n",
    "\n",
    "These equations show the gradients of the loss with respect to the network parameters."
   ]
  },
  {
   "cell_type": "markdown",
   "metadata": {},
   "source": [
    "# Implementing this method in code\n",
    "\n",
    "## Overview\n",
    "\n",
    "This Python code demonstrates a simple neural network training using the backpropagation algorithm. The network has one hidden layer (`L1`) with 50 neurons and an output layer (`L2`) with 5 neurons. The code uses the sigmoid activation function for the hidden layer.\n",
    "\n",
    "## Code Explanation\n",
    "\n",
    "<!-- Previous sections... -->\n",
    "\n",
    "### Equations\n",
    "\n",
    "The core equations in the backpropagation algorithm are explained below:\n",
    "\n",
    "#### Forward Pass:\n",
    "\n",
    "The forward pass computes the output of the neural network given an input `x_matrix`:\n",
    "\n",
    "$$\n",
    "z_{l_2} = f_2 \\left[ \\sum_{l_1=0}^{L_1-1} (x_{l_1}.w_{l_1 + L_1l_2}) + b_{l_2} \\right]\n",
    "$$\n",
    "\n",
    "Here, $z_{l_2}$ represents the output of the hidden layer, which is computed using the sigmoid activation function $f_2$. The weighted sum of inputs and biases is passed through the activation function.\n",
    "\n",
    "#### Loss Calculation:\n",
    "\n",
    "The loss is computed as the mean squared error between the predicted output `zl2` and the actual output `y`:\n",
    "\n",
    "$$\n",
    "\\text{loss} = \\frac{1}{L_2} \\sum_{l_2=0}^{L_2-1} (y_{l_2} - z_{l_2})^2\n",
    "$$\n",
    "\n",
    "This loss function measures the discrepancy between the predicted and actual outputs.\n",
    "\n",
    "#### Backward Pass (Gradient Calculation):\n",
    "\n",
    "The gradients with respect to the weights and biases are calculated using the chain rule of calculus. The derivative of the sigmoid activation function is denoted as $f'_2$.\n",
    "\n",
    "$$\\frac{\\partial(loss)}{\\partial(z_{l_2})} = -\\frac{2}{L_2} (y_{l_2} - z_{l_2})$$\n",
    "\n",
    "$$\\frac{\\partial z_{l_2}}{\\partial w_{l_1 + L_1l_2}} = f_2' \\left[ \\sum_{l_1=0}^{L_1-1} (x_{l_1}.w_{l_1 + L_1l_2}) + b_{l_2} \\right].x_{l_1}$$\n",
    "\n",
    "This equation represents the chain rule for calculating the gradient of the output with respect to the input of the hidden layer.\n",
    "\n",
    "#### Weight Update:\n",
    "\n",
    "The weights and biases are updated in the opposite direction of the gradient to minimize the loss. The learning rate is denoted as `lr`.\n",
    "\n",
    "$$\n",
    "w_{l_1 + L_1l_2} \\leftarrow w_{l_1 + L_1l_2} - \\text{lr} \\cdot \\frac{\\partial \\text{loss}}{\\partial w_{l_1 + L_1l_2}}\n",
    "$$\n",
    "\n",
    "$$\n",
    "b_{l_2} \\leftarrow b_{l_2} - \\text{lr} \\cdot \\frac{\\partial \\text{loss}}{\\partial b_{l_2}}\n",
    "$$\n",
    "\n",
    "These equations update the weights and biases to reduce the loss during the training process.\n"
   ]
  },
  {
   "cell_type": "markdown",
   "metadata": {},
   "source": [
    "## Code Explanation\n",
    "\n",
    "### Imports\n"
   ]
  },
  {
   "cell_type": "code",
   "execution_count": 1,
   "metadata": {},
   "outputs": [],
   "source": [
    "import numpy as np\n",
    "import matplotlib.pyplot as plt"
   ]
  },
  {
   "cell_type": "markdown",
   "metadata": {},
   "source": [
    "The necessary libraries are imported: `numpy` for numerical operations and `matplotlib` for plotting.\n",
    "\n",
    "### Network Architecture"
   ]
  },
  {
   "cell_type": "code",
   "execution_count": 2,
   "metadata": {},
   "outputs": [],
   "source": [
    "np.random.seed(0)\n",
    "\n",
    "L1 = 50\n",
    "L2 = 5"
   ]
  },
  {
   "cell_type": "markdown",
   "metadata": {},
   "source": [
    "The random seed is set for reproducibility, and the network architecture is defined with 50 neurons in the hidden layer (`L1`) and 5 neurons in the output layer (`L2`).\n",
    "\n",
    "### Input and Weight Initialization"
   ]
  },
  {
   "cell_type": "code",
   "execution_count": 3,
   "metadata": {},
   "outputs": [],
   "source": [
    "x_matrix = np.random.randn(1000, L1)\n",
    "wt = np.random.randn(L1 * L2)\n",
    "bt = np.random.randn(L2)\n",
    "f2 = lambda x: 1 / (1 + np.exp(-x))\n",
    "df2 = lambda x: f2(x) * (1 - f2(x))\n",
    "y_matrix = f2(x_matrix @ wt.reshape(L1, L2) + bt)\n",
    "\n",
    "del(wt)\n",
    "del(bt)"
   ]
  },
  {
   "cell_type": "markdown",
   "metadata": {},
   "source": [
    "A random input matrix `x_matrix` of shape (1000, 50) is generated. Weights `wt` and biases `bt` are initialized for the hidden layer. The sigmoid activation function `f2` and its derivative `df2` are defined. The output `y_matrix` is calculated using the sigmoid activation function.\n",
    "\n",
    "### Training Parameters"
   ]
  },
  {
   "cell_type": "code",
   "execution_count": 4,
   "metadata": {},
   "outputs": [],
   "source": [
    "w = np.random.randn(L1 * L2)\n",
    "dw = np.zeros_like(w)\n",
    "b = np.random.randn(L2)\n",
    "db = np.zeros_like(b)\n",
    "zl2 = np.zeros(L2)"
   ]
  },
  {
   "cell_type": "markdown",
   "metadata": {},
   "source": [
    "Weight and bias matrices for training are initialized. `dw` and `db` are used to store gradients, and `zl2` holds the intermediate values for the hidden layer.\n",
    "\n",
    "### Training Loop"
   ]
  },
  {
   "cell_type": "code",
   "execution_count": 5,
   "metadata": {},
   "outputs": [
    {
     "name": "stdout",
     "output_type": "stream",
     "text": [
      "Loss: 0.1639518888727417\n",
      "Loss: 0.0044892627238109955\n",
      "Loss: 4.7578049267731775e-06\n",
      "Loss: 5.567543772289793e-06\n",
      "Loss: 3.05669317549518e-06\n",
      "Loss: 2.221313599958404e-06\n",
      "Loss: 1.783741760239858e-06\n",
      "Loss: 1.4484989888879683e-06\n",
      "Loss: 1.1881932321334e-06\n",
      "Loss: 9.855031262001033e-07\n"
     ]
    }
   ],
   "source": [
    "n = 0\n",
    "lr = 0.1\n",
    "epochs = 10\n",
    "losses = []\n",
    "for epoch in range(epochs):\n",
    "    for x, y in zip(x_matrix, y_matrix):\n",
    "        loss = 0\n",
    "        for l2 in range(L2):\n",
    "            s2 = b[l2]\n",
    "            for l1 in range(L1):\n",
    "                s2 += x[l1] * w[l1 + L1 * l2]\n",
    "            zl2[l2] = f2(s2)\n",
    "\n",
    "            loss += (y[l2] - zl2[l2]) ** 2\n",
    "\n",
    "            for l1 in range(L1):\n",
    "                dw[l1 + L1 * l2] = -2 * (y[l2] - zl2[l2]) * df2(s2) * x[l1]\n",
    "\n",
    "            db[l2] = -2 * (y[l2] - zl2[l2]) * df2(s2)\n",
    "        for l2 in range(L2):\n",
    "            for l1 in range(L1):\n",
    "                w[l1 + L1 * l2] = w[l1 + L1 * l2] - lr * dw[l1 + L1 * l2]\n",
    "            b[l2] = b[l2] - lr * db[l2]\n",
    "\n",
    "        loss /= L2\n",
    "    print(f'Loss: {loss}')\n",
    "    losses.append(loss)"
   ]
  },
  {
   "cell_type": "markdown",
   "metadata": {},
   "source": [
    "The code runs a training loop for a specified number of epochs. For each input-output pair, it calculates the loss, computes gradients using backpropagation, and updates the weights and biases accordingly. The loss values are printed for each epoch, and the loss curve is plotted at the end of training.\n",
    "\n",
    "### Plotting Loss Curve"
   ]
  },
  {
   "cell_type": "code",
   "execution_count": 6,
   "metadata": {},
   "outputs": [
    {
     "data": {
      "image/png": "[encoded data removed]",
      "text/plain": [
       "<Figure size 640x480 with 1 Axes>"
      ]
     },
     "metadata": {},
     "output_type": "display_data"
    }
   ],
   "source": [
    "plt.plot(losses)\n",
    "plt.show()"
   ]
  },
  {
   "cell_type": "markdown",
   "metadata": {},
   "source": [
    "The code generates a plot showing the decrease in loss over epochs, indicating the convergence of the network.\n",
    "\n",
    "## Conclusion\n",
    "\n",
    "This code provides a simple implementation of a neural network training using the backpropagation algorithm. It serves as a starting point for understanding the mechanics of backpropagation and weight updates in a basic neural network architecture.\n",
    "\n",
    "This file provides a detailed explanation of the code, including the network architecture, input initialization, training parameters, and the training loop. It also explains the significance of the loss curve plot at the end of the training process."
   ]
  }
 ],
 "metadata": {
  "kernelspec": {
   "display_name": "Python 3 (ipykernel)",
   "language": "python",
   "name": "python3"
  },
  "language_info": {
   "codemirror_mode": {
    "name": "ipython",
    "version": 3
   },
   "file_extension": ".py",
   "mimetype": "text/x-python",
   "name": "python",
   "nbconvert_exporter": "python",
   "pygments_lexer": "ipython3",
   "version": "3.10.12"
  }
 },
 "nbformat": 4,
 "nbformat_minor": 4
}
